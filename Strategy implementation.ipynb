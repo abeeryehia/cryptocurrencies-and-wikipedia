{
 "cells": [
  {
   "cell_type": "code",
   "execution_count": 1,
   "metadata": {},
   "outputs": [],
   "source": [
    "import pandas as pd\n",
    "import numpy as np\n",
    "import os\n",
    "import re\n",
    "import random"
   ]
  },
  {
   "cell_type": "code",
   "execution_count": 2,
   "metadata": {},
   "outputs": [],
   "source": [
    "from datetime import timedelta"
   ]
  },
  {
   "cell_type": "code",
   "execution_count": 3,
   "metadata": {},
   "outputs": [],
   "source": [
    "import scipy.stats as sp"
   ]
  },
  {
   "cell_type": "code",
   "execution_count": 4,
   "metadata": {},
   "outputs": [],
   "source": [
    "def PrepareData(df,wiki_measure,names_trade):\n",
    "    beg_wiki = df.groupby('name').apply(lambda a: a[~a[wiki_measure].isna()]['time'].min()).to_frame()\n",
    "    beg_price = df.groupby('name').apply(lambda a: a[~a['price'].isna()]['time'].min()).to_frame()\n",
    "    beg_all = pd.merge(beg_wiki,beg_price,left_index=True,right_index=True,suffixes=['_wiki','_price'])\n",
    "    beg = beg_all.max(axis=1)\n",
    "    df = df[df['name'].isin(beg.index)].groupby('name',as_index=False).apply(lambda a: a[a['time'] >= beg[a['name'].iloc[0]]])\n",
    "    \n",
    "    \n",
    "    df = df.drop_duplicates()\n",
    "    df = df[df['volume'] >= 0]\n",
    "    \n",
    "    df.sort_values('time',inplace=True)\n",
    "    df = df.set_index('time',drop=False)\n",
    "    \n",
    "    traded_db =df[(df['name'].isin(names_trade))]\n",
    "    traded_db = traded_db.groupby('name',as_index=False).apply(lambda a: a[a['time'] >= (a[a['volume'] > 100000].min()['time'])])\n",
    "    \n",
    "    \n",
    "    traded_db = traded_db.groupby('name').apply(lambda a: a.resample('D',on='time').mean()).reset_index()\n",
    "    \n",
    "    return traded_db"
   ]
  },
  {
   "cell_type": "code",
   "execution_count": 5,
   "metadata": {},
   "outputs": [],
   "source": [
    "names_trade = ['Ethereum', 'Ripple', 'Litecoin', 'Bitcoin Cash',  'Monero','Tether'\n",
    "                ,'Dash',  'Stellar','Dogecoin','EOS','Ethereum Classic', 'NEO', 'OmiseGO',\n",
    "                   'Bitcoin Gold','Cardano','Zcash','Bitcoin']"
   ]
  },
  {
   "cell_type": "code",
   "execution_count": 6,
   "metadata": {},
   "outputs": [],
   "source": [
    "db_wiki = pd.read_csv('Data/wiki_market.csv',index_col=0,dtype={'sym':str},parse_dates=['time']) #pd.read_csv('../Data/wiki_all_df_all_lang.csv',index_col=0)"
   ]
  },
  {
   "cell_type": "code",
   "execution_count": 7,
   "metadata": {},
   "outputs": [],
   "source": [
    "traded_db = PrepareData(db_wiki,'views_page',names_trade)"
   ]
  },
  {
   "cell_type": "code",
   "execution_count": 8,
   "metadata": {},
   "outputs": [],
   "source": [
    "traded_db = traded_db.groupby('name',as_index=False).apply(lambda a: a.sort_values('time')).set_index('time',drop=False)"
   ]
  },
  {
   "cell_type": "code",
   "execution_count": 9,
   "metadata": {},
   "outputs": [],
   "source": [
    "traded_db.index.names = ['Date']"
   ]
  },
  {
   "cell_type": "code",
   "execution_count": 10,
   "metadata": {},
   "outputs": [],
   "source": [
    "traded_db_delta = pd.merge(traded_db.groupby('name').apply(lambda a: a['views_page'].diff().dropna()).to_frame('views_page_delta').reset_index(),\n",
    "        traded_db,left_on = ['name','Date'],right_on = ['name','time'],how ='outer').set_index('Date')"
   ]
  },
  {
   "cell_type": "code",
   "execution_count": 11,
   "metadata": {},
   "outputs": [],
   "source": [
    "traded_db_delta = pd.merge(traded_db.groupby('name').apply(lambda a: a['price'].diff().dropna()).to_frame('price_delta').reset_index(),\n",
    "        traded_db_delta,left_on = ['name','Date'],right_on = ['name','time'],how='outer').set_index('Date')"
   ]
  },
  {
   "cell_type": "code",
   "execution_count": 12,
   "metadata": {},
   "outputs": [],
   "source": [
    "traded_db_delta = traded_db_delta[['name','price','views_page','price_delta','views_page_delta','time']]"
   ]
  },
  {
   "cell_type": "code",
   "execution_count": 13,
   "metadata": {},
   "outputs": [],
   "source": [
    "traded_db_delta = traded_db_delta.groupby('name').apply(lambda a: a.resample('D',on='time').mean()).reset_index()"
   ]
  },
  {
   "cell_type": "code",
   "execution_count": 14,
   "metadata": {},
   "outputs": [],
   "source": [
    "def BuySellStrategy(df_delta,social_name,save_name,t_delta,folder):\n",
    "    if social_name == 'price reversed':\n",
    "        positives = df_delta[df_delta['price_delta'] <= 0] \n",
    "        negatives = df_delta[df_delta['price_delta'] > 0]\n",
    "    else:\n",
    "        positives = df_delta[df_delta['%s_delta'%social_name] > 0] \n",
    "        negatives = df_delta[df_delta['%s_delta'%social_name] <= 0]\n",
    "    \n",
    "    positives = positives.assign(time_1 = lambda x: (x['time'] + timedelta(days =t_delta)))\n",
    "    positives = positives.assign(time_2 = lambda x: (x['time_1'] + timedelta(days =t_delta)))\n",
    "    \n",
    "    positive_merged = pd.merge(pd.merge(positives[['price','name','time','time_1','time_2']],df_delta[['time','name','price']],\n",
    "        left_on=['time_1','name'],right_on=['time','name'],suffixes=['_before','_now']),\n",
    "        df_delta[['time','name','price']],left_on=['time_2','name'],right_on=['time','name'],how='left')\n",
    "    positive_merged.set_index('time_1',inplace =True,drop=False)\n",
    "    if positive_merged.count()['time'] > 0:\n",
    "        positive_merged = positive_merged[~positive_merged['price_now'].isna()]\n",
    "       \n",
    "    \n",
    "    returns_postives = (np.log(positive_merged['price_now']) - np.log(positive_merged['price'])).to_frame('returns').reset_index()\n",
    "    \n",
    "    returns_postives = returns_postives.rename(columns = {'time_1':'time'})\n",
    "    \n",
    "    \n",
    "    negatives =negatives.assign(time_1 = lambda x:  (x['time'] + timedelta(days =t_delta)))\n",
    "    negatives = negatives.assign(time_2 = lambda x: (x['time_1'] + timedelta(days =t_delta)))\n",
    "    negatives_merged = pd.merge(pd.merge(negatives[['price','name','time','time_1','time_2']],df_delta[['time','name','price']],\n",
    "        left_on=['time_1','name'],right_on=['time','name'],suffixes=['_before','_now']),\n",
    "        df_delta[['time','name','price']],left_on=['time_2','name'],right_on=['time','name'],how='left')\n",
    "    negatives_merged.set_index('time_2',inplace =True,drop=False)\n",
    "    if negatives_merged.count()['time'] > 0:\n",
    "        negatives_merged = negatives_merged[~negatives_merged['price_now'].isna()]\n",
    "       \n",
    "    returns_negatives = (np.log(negatives_merged['price']) - np.log(negatives_merged['price_now'])).to_frame('returns').reset_index()\n",
    "    returns_negatives = returns_negatives.rename(columns = {'time_2':'time'})\n",
    "    returns_df = ((pd.merge(returns_negatives,returns_postives,on='time',how='outer')).set_index('time').sum(axis=1)).to_frame('returns').reset_index().groupby('time').mean().reset_index()\n",
    "    returns_df.fillna(0,inplace=True)\n",
    "    \n",
    "    returns_df.to_csv('%s/returns_%s.csv'%(folder,save_name))\n",
    "    return returns_df,negatives_merged,positive_merged\n",
    "        "
   ]
  },
  {
   "cell_type": "code",
   "execution_count": 15,
   "metadata": {},
   "outputs": [],
   "source": [
    "def GetOneRand(df):\n",
    "    dic_ret = {}\n",
    "    i = 0\n",
    "    for grp_name,grp in df.groupby('name'):\n",
    "        #print(grp_name)\n",
    "        dates = grp[grp['time'] < grp['time'].max()].resample('2D',on='time').median().index\n",
    "        for date_s in dates: \n",
    "            date = date_s.date()\n",
    "            i+=1\n",
    "            rand = np.random.rand()\n",
    "            if rand <= 0.5:\n",
    "                ret = (np.log(grp.loc[date]['price'])-np.log(grp.loc[date+timedelta(1)]['price']))\n",
    "            else:\n",
    "                ret =(np.log(grp.loc[date+timedelta(1)]['price'])-np.log(grp.loc[date]['price']))\n",
    "            dic_ret[i] = {'name':grp_name,'time':date,'return':ret} \n",
    "    return pd.DataFrame.from_dict(dic_ret,orient='index')"
   ]
  },
  {
   "cell_type": "code",
   "execution_count": 16,
   "metadata": {},
   "outputs": [],
   "source": [
    "def GetAllRand(df,n_rand,start,folder_name):\n",
    "    returns_df = GetOneRand(df)\n",
    "    returns_df['time'] = pd.to_datetime(returns_df['time'])\n",
    "    returns_df = returns_df.assign(run= lambda a: 0 )\n",
    "    df_ls = [returns_df]\n",
    "    n = 0\n",
    "    while n < n_rand:\n",
    "        first_run = GetOneRand(df)\n",
    "        first_run['time'] = pd.to_datetime(first_run['time'])\n",
    "        first_run = first_run.assign(run= lambda a: n)\n",
    "        df_ls.append(first_run)\n",
    "        \n",
    "        n += 1\n",
    "    \n",
    "    pd.concat(df_ls).to_csv('%s/%s_%s.csv'%(folder_name,\n",
    "                        start,'Rand_views_page_updated'))"
   ]
  },
  {
   "cell_type": "markdown",
   "metadata": {},
   "source": [
    "# The Calling!"
   ]
  },
  {
   "cell_type": "code",
   "execution_count": 17,
   "metadata": {},
   "outputs": [],
   "source": [
    "folder_name = 'Data'"
   ]
  },
  {
   "cell_type": "code",
   "execution_count": 18,
   "metadata": {
    "scrolled": false
   },
   "outputs": [],
   "source": [
    "df_wbs,dn,dp = BuySellStrategy(traded_db_delta,'views_page','wiki',1,folder_name)\n",
    "\n"
   ]
  },
  {
   "cell_type": "code",
   "execution_count": 19,
   "metadata": {},
   "outputs": [],
   "source": [
    "df_vbs,dn_p,dp_p = BuySellStrategy(traded_db_delta,'price','price',1,folder_name)"
   ]
  },
  {
   "cell_type": "code",
   "execution_count": 20,
   "metadata": {},
   "outputs": [],
   "source": [
    "def GetReturnsName(df,name,pos_neg_flag):\n",
    "    df.set_index('time_1',inplace =True,drop=False)\n",
    "    if df.count()['time'] > 0:\n",
    "        df = df[~df['price_now'].isna()]\n",
    "    \n",
    "    if pos_neg_flag == 'positive':\n",
    "        ret_df = (np.log(df['price_now']) - np.log(df['price'])).to_frame('returns').reset_index()\n",
    "    \n",
    "        ret_df = ret_df.rename(columns = {'time_1':'time'})\n",
    "    else:\n",
    "        \n",
    "       \n",
    "        ret_df = (np.log(df['price']) - np.log(df['price_now'])).to_frame('returns').reset_index()\n",
    "        ret_df = ret_df.rename(columns = {'time_2':'time'})\n",
    "    return ret_df\n",
    "    \n",
    "    "
   ]
  },
  {
   "cell_type": "code",
   "execution_count": 21,
   "metadata": {},
   "outputs": [],
   "source": [
    "suzi_returns_per_crypt  = pd.merge(dp.groupby('name').apply(lambda a : GetReturnsName(a,a['name'].iloc[0],'positive')).reset_index(),\n",
    "          dn.groupby('name').apply(lambda a : GetReturnsName(a,a['name'].iloc[0],'negative')).reset_index(),left_on=['name','level_1'],\n",
    "        right_on=['name','level_1'],how='outer').set_index(['name','level_1']).sum(axis=1).reset_index()#.groupby('name').mean()"
   ]
  },
  {
   "cell_type": "code",
   "execution_count": 22,
   "metadata": {},
   "outputs": [],
   "source": [
    "price_returns_per_crypt = pd.merge(dp_p.groupby('name').apply(lambda a : GetReturnsName(a,a['name'].iloc[0],'positive')).reset_index(),\n",
    "          dn_p.groupby('name').apply(lambda a : GetReturnsName(a,a['name'].iloc[0],'negative')).reset_index(),left_on=['name','level_1'],\n",
    "        right_on=['name','level_1'],how='outer').set_index(['name','level_1']).sum(axis=1).reset_index()#.groupby('name').mean()"
   ]
  },
  {
   "cell_type": "code",
   "execution_count": 23,
   "metadata": {},
   "outputs": [],
   "source": [
    "wiki_returns_per_crypt.rename(columns={0:'wikipedia'},inplace=True)"
   ]
  },
  {
   "cell_type": "code",
   "execution_count": 24,
   "metadata": {},
   "outputs": [],
   "source": [
    "price_returns_per_crypt.rename(columns={0:'price'},inplace=True)"
   ]
  },
  {
   "cell_type": "code",
   "execution_count": 26,
   "metadata": {},
   "outputs": [],
   "source": [
    "GetAllRand(traded_db,1000,'',folder_name)\n"
   ]
  },
  {
   "cell_type": "code",
   "execution_count": 26,
   "metadata": {},
   "outputs": [],
   "source": [
    "#rands  = pd.read_csv('Data/_Rand_views_page_updated.csv',index_col=0,parse_dates=['time'])"
   ]
  },
  {
   "cell_type": "code",
   "execution_count": 38,
   "metadata": {},
   "outputs": [],
   "source": [
    "views_st_returns = pd.read_csv('Data/returns_wiki.csv',parse_dates=['time'],index_col=0)\n",
    "price_st_returns = pd.read_csv('Data/returns_price.csv',parse_dates=['time'],index_col=0)\n"
   ]
  },
  {
   "cell_type": "code",
   "execution_count": 39,
   "metadata": {},
   "outputs": [],
   "source": [
    "rand_daily_returns = rands.groupby('run').apply(lambda a: a.groupby('time').sum()['return']).mean(axis=0).to_frame('return')"
   ]
  },
  {
   "cell_type": "code",
   "execution_count": 40,
   "metadata": {},
   "outputs": [],
   "source": [
    "rand_crypt = rands.groupby('name').apply(lambda a: a.groupby('run').sum().mean())"
   ]
  },
  {
   "cell_type": "code",
   "execution_count": 41,
   "metadata": {},
   "outputs": [],
   "source": [
    "rand_daily_returns.to_csv('Data/returns_random.csv')"
   ]
  },
  {
   "cell_type": "code",
   "execution_count": 49,
   "metadata": {},
   "outputs": [],
   "source": [
    "pd.merge(pd.merge(wiki_returns_per_crypt.groupby('name').sum()['wikipedia'].to_frame(),\n",
    "        price_returns_per_crypt.groupby('name').sum()['price'].to_frame(),left_index=True,\n",
    "        right_index=True).rename(columns={'0_x':'wikipedia','0_y':'price'}),rand_crypt,left_index=True,\n",
    "         right_index=True).rename(columns={'return':'rand'}).to_csv(\n",
    "    'Data/returns_per_crypt.csv')"
   ]
  },
  {
   "cell_type": "code",
   "execution_count": 44,
   "metadata": {},
   "outputs": [],
   "source": [
    "returns_df_daily = pd.merge(pd.merge(views_st_returns.set_index('time')['returns'].to_frame('wikipedia'),\n",
    "     price_st_returns.set_index('time')['returns'].to_frame('price'),left_index=True,right_index=True,how='outer'),\n",
    "        (rand_daily_returns['return']).to_frame('rand'),left_index=True,right_index=True,how='outer')"
   ]
  },
  {
   "cell_type": "code",
   "execution_count": 45,
   "metadata": {},
   "outputs": [],
   "source": [
    "returns_df_daily = returns_df_daily[returns_df_daily.index>'2015-07-01']"
   ]
  },
  {
   "cell_type": "code",
   "execution_count": 46,
   "metadata": {},
   "outputs": [],
   "source": [
    "dates_ava = pd.date_range('2015-07-01',returns_df_daily.index.max(),freq='2M',closed='left')"
   ]
  },
  {
   "cell_type": "code",
   "execution_count": 47,
   "metadata": {},
   "outputs": [],
   "source": [
    "st_ends_ls = []\n",
    "i = 0\n",
    "for date_now in dates_ava:\n",
    "    i +=1\n",
    "    for date_end in dates_ava:\n",
    "        rolling_df = returns_df_daily[(returns_df_daily.index >= date_now)&\n",
    "                                      (returns_df_daily.index <= date_end)]\n",
    "        res = rolling_df.sum().to_frame().transpose().assign(start=lambda a: date_now)\n",
    "        res = res.assign(end=lambda a: date_end)\n",
    "        st_ends_ls.append(res)\n",
    "returns_start_ends = pd.concat(st_ends_ls)\n",
    "returns_start_ends = returns_start_ends[returns_start_ends['start']!= returns_start_ends['end']]\n",
    "returns_start_ends = returns_start_ends[returns_start_ends['end'] != '2015-07-01']\n",
    "returns_start_ends = returns_start_ends[returns_start_ends['start'] != '2019-01-01']"
   ]
  },
  {
   "cell_type": "code",
   "execution_count": 48,
   "metadata": {},
   "outputs": [],
   "source": [
    "returns_start_ends.to_csv('Data/start_ends.csv')"
   ]
  },
  {
   "cell_type": "code",
   "execution_count": null,
   "metadata": {},
   "outputs": [],
   "source": []
  }
 ],
 "metadata": {
  "anaconda-cloud": {},
  "kernelspec": {
   "display_name": "Python 3",
   "language": "python",
   "name": "python3"
  },
  "language_info": {
   "codemirror_mode": {
    "name": "ipython",
    "version": 3
   },
   "file_extension": ".py",
   "mimetype": "text/x-python",
   "name": "python",
   "nbconvert_exporter": "python",
   "pygments_lexer": "ipython3",
   "version": "3.6.5"
  }
 },
 "nbformat": 4,
 "nbformat_minor": 2
}
